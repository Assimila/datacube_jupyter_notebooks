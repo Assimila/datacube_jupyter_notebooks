{
 "cells": [
  {
   "cell_type": "markdown",
   "metadata": {
    "hide_input": true
   },
   "source": [
    "![Assimila logo](logosmall.png \"Assimila\")\n",
    "# Assimila Peatlands Demonstrator\n",
    "\n",
    "# Get Time Series from the Data Cube"
   ]
  },
  {
   "cell_type": "code",
   "execution_count": 1,
   "metadata": {
    "hide_input": true,
    "init_cell": true
   },
   "outputs": [
    {
     "data": {
      "application/vnd.jupyter.widget-view+json": {
       "model_id": "731dcac432bf4219b394980b65b88b8a",
       "version_major": 2,
       "version_minor": 0
      },
      "text/plain": [
       "Output()"
      ]
     },
     "metadata": {},
     "output_type": "display_data"
    },
    {
     "data": {
      "application/vnd.jupyter.widget-view+json": {
       "model_id": "a13ddd038782494b96dfeb0cfe6c3c89",
       "version_major": 2,
       "version_minor": 0
      },
      "text/plain": [
       "Dropdown(description='Product:', layout=Layout(height='30px', width='400px'), options=('MOD11A1', 'MOD13A2', '…"
      ]
     },
     "metadata": {},
     "output_type": "display_data"
    },
    {
     "data": {
      "application/vnd.jupyter.widget-view+json": {
       "model_id": "a97a9175c46d4424b768cbb572d71832",
       "version_major": 2,
       "version_minor": 0
      },
      "text/plain": [
       "Dropdown(description='Subproduct:', layout=Layout(height='30px', width='400px'), options=('LST_Day_1km', 'Day_…"
      ]
     },
     "metadata": {},
     "output_type": "display_data"
    },
    {
     "data": {
      "application/vnd.jupyter.widget-view+json": {
       "model_id": "22e97a5c76d14801876e7e97ea5d1465",
       "version_major": 2,
       "version_minor": 0
      },
      "text/plain": [
       "Dropdown(description='Projection:', layout=Layout(height='30px', width='400px'), options=('WGS84', 'British Na…"
      ]
     },
     "metadata": {},
     "output_type": "display_data"
    },
    {
     "data": {
      "application/vnd.jupyter.widget-view+json": {
       "model_id": "ac2603d9fb324dfa880a464fb0a0118f",
       "version_major": 2,
       "version_minor": 0
      },
      "text/plain": [
       "BoundedFloatText(value=7.5, description='Longitude (x)', layout=Layout(height='30px', width='400px'), max=180.…"
      ]
     },
     "metadata": {},
     "output_type": "display_data"
    },
    {
     "data": {
      "application/vnd.jupyter.widget-view+json": {
       "model_id": "bd20c6c0644e4b4aafa076fee88ecf22",
       "version_major": 2,
       "version_minor": 0
      },
      "text/plain": [
       "BoundedFloatText(value=7.5, description='Latitude (y)', layout=Layout(height='30px', width='400px'), max=90.0,…"
      ]
     },
     "metadata": {},
     "output_type": "display_data"
    },
    {
     "data": {
      "application/vnd.jupyter.widget-view+json": {
       "model_id": "dfd2f43575c346c1849911282a0f6649",
       "version_major": 2,
       "version_minor": 0
      },
      "text/plain": [
       "DatePicker(value=datetime.datetime(2000, 1, 1, 0, 0), description='Start Date: ', layout=Layout(height='30px',…"
      ]
     },
     "metadata": {},
     "output_type": "display_data"
    },
    {
     "data": {
      "application/vnd.jupyter.widget-view+json": {
       "model_id": "93d08b025c2244288b673a8036fd6118",
       "version_major": 2,
       "version_minor": 0
      },
      "text/plain": [
       "DatePicker(value=datetime.datetime(2000, 2, 1, 0, 0), description='EndDate: ', layout=Layout(height='30px', wi…"
      ]
     },
     "metadata": {},
     "output_type": "display_data"
    },
    {
     "data": {
      "application/vnd.jupyter.widget-view+json": {
       "model_id": "6267bf51a9804374a9ac90e77efe2ab2",
       "version_major": 2,
       "version_minor": 0
      },
      "text/plain": [
       "LoadedButton(button_style='primary', description='Get Data', layout=Layout(height='30px', width='400px'), styl…"
      ]
     },
     "metadata": {},
     "output_type": "display_data"
    },
    {
     "data": {
      "application/vnd.jupyter.widget-view+json": {
       "model_id": "42c41681bb55415e983793198ec9cbac",
       "version_major": 2,
       "version_minor": 0
      },
      "text/plain": [
       "Output()"
      ]
     },
     "metadata": {},
     "output_type": "display_data"
    }
   ],
   "source": [
    "import sys\n",
    "sys.path.append(\"helpers\")\n",
    "import helpers.peatlands_helpers as helpers\n",
    "%matplotlib inline\n",
    "\n",
    "def on_button_clicked(b): \n",
    "    h = helpers.PeatHelpers(out) #helpers.Helpers(out)\n",
    "    data = h.data_to_csv(product.value,\n",
    "                  subproduct.value,\n",
    "                  projection.value,\n",
    "                  y.value,\n",
    "                  x.value,\n",
    "                  start.value,\n",
    "                  end.value)\n",
    "\n",
    "wid = helpers.PeatWidgets()\n",
    "start, end = wid.get_date_widgets()\n",
    "x, y = wid.get_lat_lon_widgets()\n",
    "product = wid.product()\n",
    "subproduct = wid.subproduct()\n",
    "projection = wid.projection()\n",
    "button = wid.set_up_button(on_button_clicked)\n",
    "out = wid.display_output()\n",
    "\n",
    "# Define a function that updates the content of y based on what we select for x\n",
    "def update(*args):\n",
    "    subproduct.options = wid.get_subproduct_list(product.value)\n",
    "    attributes = wid.get_x_attributes(projection.value)\n",
    "    x.min = attributes['min']\n",
    "    x.max = attributes['max']\n",
    "    x.description = attributes['description']\n",
    "    attributes = wid.get_y_attributes(projection.value)\n",
    "    y.description = attributes['description']\n",
    "    y.min = attributes['min']\n",
    "    y.max = attributes['max']\n",
    "\n",
    "update()\n",
    "product.observe(update)\n",
    "projection.observe(update)\n",
    "\n",
    "wid.display_widget([product, subproduct, projection, x, y, start, end, button])\n",
    "out = wid.display_output()\n"
   ]
  },
  {
   "cell_type": "markdown",
   "metadata": {
    "editable": false
   },
   "source": [
    "## Available MODIS products:\n",
    "\n",
    "  - __MOD11A1 - Land surface temperature__\n",
    "  - __MOD13A2 - Vegetation indices__\n",
    "  - __MCD43A3 - Albedo__\n",
    "\n",
    "\n",
    "## MOD11A1 - Land surface temperature\n",
    "Daily, 1km resolution\n",
    "  - Day and night __land surface temperature__ (LST_Day_1km, LST_night_1km)\n",
    "\n",
    "Also:\n",
    " - __Quality control flags__ (day and night).\n",
    "   - These need interperating before using.\n",
    " - Day and night __view time__.\n",
    " - Day and night __view angle__.\n",
    " - __Clear sky coverage__ (day/night).\n",
    " - __Emissivity__ (band 31 and 32)\n",
    "\n",
    "\n",
    "## MOD13A2 - Vegetation indices\n",
    "Every 16 days, 1 km resolution\n",
    "  - Vegetation indices: __NDVI__, __EVI__\n",
    "\n",
    "Also:\n",
    "  - Vegetation index __quality indicators__\n",
    "  - __Reflectance__ for red, NIR, blue and MIR bands\n",
    "  - Viewing and sun angles: __view zenith__, __sun zenith__ and __relative azimuth__\n",
    "  - __Pixel reliability__\n",
    "\n",
    "## MCD43A3 - Albedo\n",
    "Daily, 500 m resolution\n",
    "  - __White sky albedo__ for each band\n",
    "  - __Black sky albedo__ for each band\n",
    "  - __Quality indicators__\n",
    "    - need interpretation\n"
   ]
  },
  {
   "cell_type": "markdown",
   "metadata": {},
   "source": [
    "![Assimila logo](logosmall.png \"Assimila\")"
   ]
  },
  {
   "cell_type": "code",
   "execution_count": null,
   "metadata": {},
   "outputs": [],
   "source": []
  }
 ],
 "metadata": {
  "kernelspec": {
   "display_name": "Python 3",
   "language": "python",
   "name": "python3"
  },
  "language_info": {
   "codemirror_mode": {
    "name": "ipython",
    "version": 3
   },
   "file_extension": ".py",
   "mimetype": "text/x-python",
   "name": "python",
   "nbconvert_exporter": "python",
   "pygments_lexer": "ipython3",
   "version": "3.7.3"
  }
 },
 "nbformat": 4,
 "nbformat_minor": 2
}
