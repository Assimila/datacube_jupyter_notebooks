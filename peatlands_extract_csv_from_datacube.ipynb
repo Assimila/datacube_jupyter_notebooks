{
 "cells": [
  {
   "cell_type": "markdown",
   "metadata": {
    "hide_input": false
   },
   "source": [
    "# Get Time Series for the Data Cube"
   ]
  },
  {
   "cell_type": "code",
   "execution_count": 2,
   "metadata": {
    "editable": false,
    "hide_input": true,
    "init_cell": true
   },
   "outputs": [
    {
     "data": {
      "application/vnd.jupyter.widget-view+json": {
       "model_id": "eb7cc435ff4a461a906fc4025e032b5e",
       "version_major": 2,
       "version_minor": 0
      },
      "text/plain": [
       "Output()"
      ]
     },
     "metadata": {},
     "output_type": "display_data"
    },
    {
     "data": {
      "application/vnd.jupyter.widget-view+json": {
       "model_id": "2d6022ab7b2d4101864c19410b623a82",
       "version_major": 2,
       "version_minor": 0
      },
      "text/plain": [
       "Dropdown(description='Product:', layout=Layout(height='30px', width='400px'), options=('chirps', 'tamsat', 'er…"
      ]
     },
     "metadata": {},
     "output_type": "display_data"
    },
    {
     "data": {
      "application/vnd.jupyter.widget-view+json": {
       "model_id": "663b455a2a2042faaf12b14834cbf623",
       "version_major": 2,
       "version_minor": 0
      },
      "text/plain": [
       "Dropdown(description='Subproduct:', layout=Layout(height='30px', width='400px'), options=('rfe',), value='rfe'…"
      ]
     },
     "metadata": {},
     "output_type": "display_data"
    },
    {
     "data": {
      "application/vnd.jupyter.widget-view+json": {
       "model_id": "91a0088bd07846b7ae5a9314a2f281e5",
       "version_major": 2,
       "version_minor": 0
      },
      "text/plain": [
       "Dropdown(description='Projection:', layout=Layout(height='30px', width='400px'), options=('WGS84', 'British Na…"
      ]
     },
     "metadata": {},
     "output_type": "display_data"
    },
    {
     "data": {
      "application/vnd.jupyter.widget-view+json": {
       "model_id": "0ee1caa5b95e4f00bc566cb4f0db6603",
       "version_major": 2,
       "version_minor": 0
      },
      "text/plain": [
       "BoundedFloatText(value=7.5, description='Latitude (y)', layout=Layout(height='30px', width='400px'), max=90.0,…"
      ]
     },
     "metadata": {},
     "output_type": "display_data"
    },
    {
     "data": {
      "application/vnd.jupyter.widget-view+json": {
       "model_id": "6c84249857db462991333986a97931a4",
       "version_major": 2,
       "version_minor": 0
      },
      "text/plain": [
       "BoundedFloatText(value=7.5, description='Longitude (x)', layout=Layout(height='30px', width='400px'), max=180.…"
      ]
     },
     "metadata": {},
     "output_type": "display_data"
    },
    {
     "data": {
      "application/vnd.jupyter.widget-view+json": {
       "model_id": "1fa3fae59fad4dd7b32bb6da943e01ef",
       "version_major": 2,
       "version_minor": 0
      },
      "text/plain": [
       "DatePicker(value=datetime.datetime(2000, 1, 1, 0, 0), description='Start Date: ', layout=Layout(height='30px',…"
      ]
     },
     "metadata": {},
     "output_type": "display_data"
    },
    {
     "data": {
      "application/vnd.jupyter.widget-view+json": {
       "model_id": "0d5fea17c314477c8fc3ed8a996fbb35",
       "version_major": 2,
       "version_minor": 0
      },
      "text/plain": [
       "DatePicker(value=datetime.datetime(2000, 2, 1, 0, 0), description='EndDate: ', layout=Layout(height='30px', wi…"
      ]
     },
     "metadata": {},
     "output_type": "display_data"
    },
    {
     "data": {
      "application/vnd.jupyter.widget-view+json": {
       "model_id": "d18a0922ddc047809f83a13c9526b96f",
       "version_major": 2,
       "version_minor": 0
      },
      "text/plain": [
       "LoadedButton(button_style='primary', description='Get Data', layout=Layout(height='30px', width='400px'), styl…"
      ]
     },
     "metadata": {},
     "output_type": "display_data"
    },
    {
     "data": {
      "application/vnd.jupyter.widget-view+json": {
       "model_id": "9921151dad0e49ec8b5141fc53b3d9c1",
       "version_major": 2,
       "version_minor": 0
      },
      "text/plain": [
       "Output()"
      ]
     },
     "metadata": {},
     "output_type": "display_data"
    }
   ],
   "source": [
    "import sys\n",
    "sys.path.append(\"helpers\")\n",
    "import helpers.peatlands_helpers as helpers\n",
    "%matplotlib inline\n",
    "\n",
    "def on_button_clicked(b): \n",
    "    h = helpers.PeatHelpers(out) #helpers.Helpers(out)\n",
    "    data = h.data_to_csv(product.value,\n",
    "                  subproduct.value,\n",
    "                  projection.value,\n",
    "                  y.value,\n",
    "                  x.value,\n",
    "                  start.value,\n",
    "                  end.value)\n",
    "\n",
    "wid = helpers.PeatWidgets()\n",
    "start, end = wid.get_date_widgets()\n",
    "x, y = wid.get_lat_lon_widgets()\n",
    "product = wid.product()\n",
    "subproduct = wid.subproduct()\n",
    "projection = wid.projection()\n",
    "button = wid.set_up_button(on_button_clicked)\n",
    "out = wid.display_output()\n",
    "\n",
    "# Define a function that updates the content of y based on what we select for x\n",
    "def update(*args):\n",
    "    subproduct.options = wid.get_subproduct_list(product.value)\n",
    "    attributes = wid.get_x_attributes(projection.value)\n",
    "    x.min = attributes['min']\n",
    "    x.max = attributes['max']\n",
    "    x.description = attributes['description']\n",
    "    attributes = wid.get_y_attributes(projection.value)\n",
    "    y.description = attributes['description']\n",
    "    y.min = attributes['min']\n",
    "    y.max = attributes['max']\n",
    "\n",
    "update()\n",
    "product.observe(update)\n",
    "projection.observe(update)\n",
    "\n",
    "wid.display_widget([product, subproduct, projection, y, x, start, end, button])\n",
    "out = wid.display_output()\n"
   ]
  },
  {
   "cell_type": "markdown",
   "metadata": {
    "editable": false
   },
   "source": [
    "## Available MODIS products:\n",
    "\n",
    "  - __MOD11A1 - Land surface temperature__\n",
    "  - __MOD13A2 - Vegetation indices__\n",
    "  - __MCD43A3 - Albedo__\n",
    "\n",
    "\n",
    "## MOD11A1 - Land surface temperature\n",
    "Daily, 1km resolution\n",
    "  - Day and night __land surface temperature__ (LST_Day_1km, LST_night_1km)\n",
    "\n",
    "Also:\n",
    " - __Quality control flags__ (day and night).\n",
    "   - These need interperating before using.\n",
    " - Day and night __view time__.\n",
    " - Day and night __view angle__.\n",
    " - __Clear sky coverage__ (day/night).\n",
    " - __Emissivity__ (band 31 and 32)\n",
    "\n",
    "\n",
    "## MOD13A2 - Vegetation indices\n",
    "Every 16 days, 1 km resolution\n",
    "  - Vegetation indices: __NDVI__, __EVI__\n",
    "\n",
    "Also:\n",
    "  - Vegetation index __quality indicators__\n",
    "  - __Reflectance__ for red, NIR, blue and MIR bands\n",
    "  - Viewing and sun angles: __view zenith__, __sun zenith__ and __relative azimuth__\n",
    "  - __Pixel reliability__\n",
    "\n",
    "## MCD43A3 - Albedo\n",
    "Daily, 500 m resolution\n",
    "  - __White sky albedo__ for each band\n",
    "  - __Black sky albedo__ for each band\n",
    "  - __Quality indicators__\n",
    "    - need interpretation\n"
   ]
  },
  {
   "cell_type": "code",
   "execution_count": null,
   "metadata": {},
   "outputs": [],
   "source": []
  }
 ],
 "metadata": {
  "celltoolbar": "Edit Metadata",
  "kernelspec": {
   "display_name": "Python 3",
   "language": "python",
   "name": "python3"
  },
  "language_info": {
   "codemirror_mode": {
    "name": "ipython",
    "version": 3
   },
   "file_extension": ".py",
   "mimetype": "text/x-python",
   "name": "python",
   "nbconvert_exporter": "python",
   "pygments_lexer": "ipython3",
   "version": "3.7.3"
  }
 },
 "nbformat": 4,
 "nbformat_minor": 2
}
