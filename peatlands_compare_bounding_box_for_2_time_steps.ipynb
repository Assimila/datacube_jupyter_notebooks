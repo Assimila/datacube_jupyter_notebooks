{
 "cells": [
  {
   "cell_type": "markdown",
   "metadata": {},
   "source": [
    "# Compare bounding box for 2 time steps"
   ]
  },
  {
   "cell_type": "code",
   "execution_count": 1,
   "metadata": {
    "editable": false,
    "hide_input": true,
    "init_cell": true,
    "scrolled": false
   },
   "outputs": [
    {
     "data": {
      "application/vnd.jupyter.widget-view+json": {
       "model_id": "e4b16392f9c349ba8349364f1f2ef354",
       "version_major": 2,
       "version_minor": 0
      },
      "text/plain": [
       "HBox(children=(VBox(children=(Dropdown(description='Product:', layout=Layout(height='30px', width='400px'), op…"
      ]
     },
     "metadata": {},
     "output_type": "display_data"
    },
    {
     "data": {
      "application/vnd.jupyter.widget-view+json": {
       "model_id": "152b026676674a7da79105321474d09d",
       "version_major": 2,
       "version_minor": 0
      },
      "text/plain": [
       "Label(value='')"
      ]
     },
     "metadata": {},
     "output_type": "display_data"
    },
    {
     "data": {
      "application/vnd.jupyter.widget-view+json": {
       "model_id": "fb7df749be6442bc83d885c4420e7efd",
       "version_major": 2,
       "version_minor": 0
      },
      "text/plain": [
       "Output()"
      ]
     },
     "metadata": {},
     "output_type": "display_data"
    }
   ],
   "source": [
    "import sys\n",
    "sys.path.append(\"helpers/\")\n",
    "import helpers.peatlands_helpers as helpers\n",
    "import matplotlib\n",
    "%matplotlib inline\n",
    "matplotlib.use(\"nbagg\")\n",
    "from IPython.display import clear_output\n",
    "\n",
    "from ipyleaflet import (Map, Marker, basemaps, basemap_to_tiles, \n",
    "                        TileLayer, ImageOverlay, Polyline, Polygon, \n",
    "                        Rectangle,  GeoJSON, WidgetControl,  DrawControl, \n",
    "                        LayerGroup, FullScreenControl, interactive)\n",
    "\n",
    "import ipywidgets as widgets\n",
    "import datetime\n",
    "\n",
    "def on_button_clicked(b):\n",
    "\n",
    "    h = helpers.PeatHelpers(out)\n",
    "    m1 = h.color_map_nesw_compare_reduced(product.value, \n",
    "                                  subproduct.value, \n",
    "                                  north.value,\n",
    "                                  east.value, \n",
    "                                  south.value, \n",
    "                                  west.value,\n",
    "                                  date1.value, \n",
    "                                  date2.value)\n",
    "\n",
    "m = Map(center=(55, 0), zoom=4, layout=dict(width='400px', height='370px'))\n",
    "\n",
    "dc = DrawControl()\n",
    "m.add_control(dc)\n",
    "\n",
    "helpers.PeatHelpers.prepare_map(dc, m)\n",
    "\n",
    "wid = helpers.PeatWidgets()\n",
    "w = helpers.PeatWidgets()\n",
    "product = w.product()\n",
    "subproduct = w.subproduct()\n",
    "projection = w.projection()\n",
    "\n",
    "north = w.get_point(60.0, 'North (lat): ')\n",
    "east = w.get_point(2.5, 'East (lon): ')\n",
    "south = w.get_point((49), 'South (lat): ')\n",
    "west = w.get_point((-13), 'West (lon): ')\n",
    "date1 = w.get_date(datetime.datetime(2018,1,1), 'Date 1: ')\n",
    "date2 = w.get_date(datetime.datetime(2018,1,2), 'Date 2: ')\n",
    "button = w.set_up_button(on_button_clicked)\n",
    "w.display_widget_comparison_reduced(product, subproduct, north, east, south, west, \n",
    "                            date1, date2, button, m)\n",
    "\n",
    "label = widgets.Label()\n",
    "helpers.PeatHelpers.mouse_interaction(m, label)\n",
    "\n",
    "def update_north(x):\n",
    "    w = helpers.PeatHelpers.update_nesw(x)\n",
    "    l = widgets.link((w.children[0], 'value'), (north, 'value'))\n",
    "\n",
    "def update_east(x):\n",
    "    w = helpers.PeatHelpers.update_nesw(x)\n",
    "    l = widgets.link((w.children[0], 'value'), (east, 'value'))\n",
    "\n",
    "def update_south(x):\n",
    "    w = helpers.PeatHelpers.update_nesw(x)\n",
    "    l = widgets.link((w.children[0], 'value'), (south, 'value'))\n",
    "\n",
    "def update_west(x):\n",
    "    w = helpers.PeatHelpers.update_nesw(x)\n",
    "    l = widgets.link((w.children[0], 'value'), (west, 'value'))    \n",
    "    \n",
    "\n",
    "def handle_draw(self, action, geo_json):\n",
    "    w = helpers.PeatWidgets()\n",
    "    s = geo_json.get('geometry','type')\n",
    "    t = s.get('type')\n",
    "    \n",
    "    h = helpers.PeatHelpers(out)\n",
    "    if t == 'Point':\n",
    "        north, east, south, west = h.get_coords_point(action, geo_json)\n",
    "        update_north(north)\n",
    "        update_east(east)\n",
    "        update_south(south)\n",
    "        update_west(west)\n",
    "        projection = ('w')\n",
    "\n",
    "    if t == 'Polygon':\n",
    "        north, east, south, west = h.get_coords_polygon(action, geo_json)\n",
    "        update_north(north)\n",
    "        update_east(east)\n",
    "        update_south(south)\n",
    "        update_west(west)\n",
    "\n",
    "def update(*args):\n",
    "    subproduct.options = w.get_subproduct_list(product.value)\n",
    "    \n",
    "    \n",
    "update()\n",
    "product.observe(update)\n",
    "\n",
    "out = w.display_output()\n",
    "\n",
    "dc.on_draw(handle_draw)\n"
   ]
  }
 ],
 "metadata": {
  "kernelspec": {
   "display_name": "Python 3",
   "language": "python",
   "name": "python3"
  },
  "language_info": {
   "codemirror_mode": {
    "name": "ipython",
    "version": 3
   },
   "file_extension": ".py",
   "mimetype": "text/x-python",
   "name": "python",
   "nbconvert_exporter": "python",
   "pygments_lexer": "ipython3",
   "version": "3.7.3"
  },
  "toc": {
   "base_numbering": 1,
   "nav_menu": {},
   "number_sections": false,
   "sideBar": false,
   "skip_h1_title": false,
   "title_cell": "Table of Contents",
   "title_sidebar": "Contents",
   "toc_cell": false,
   "toc_position": {},
   "toc_section_display": false,
   "toc_window_display": false
  }
 },
 "nbformat": 4,
 "nbformat_minor": 2
}
